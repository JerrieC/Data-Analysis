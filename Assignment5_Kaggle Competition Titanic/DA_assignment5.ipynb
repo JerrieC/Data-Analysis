{
 "cells": [
  {
   "cell_type": "markdown",
   "metadata": {},
   "source": [
    "# Titanic"
   ]
  },
  {
   "cell_type": "markdown",
   "metadata": {},
   "source": [
    "## Team Member:"
   ]
  },
  {
   "cell_type": "markdown",
   "metadata": {},
   "source": [
    "### Jiayu Chen  jic117   Huan Chen huc48  Chang Tian cht97"
   ]
  },
  {
   "cell_type": "code",
   "execution_count": 9,
   "metadata": {},
   "outputs": [
    {
     "name": "stdout",
     "output_type": "stream",
     "text": [
      "<class 'pandas.core.frame.DataFrame'>\n",
      "RangeIndex: 891 entries, 0 to 890\n",
      "Data columns (total 12 columns):\n",
      "PassengerId    891 non-null int64\n",
      "Survived       891 non-null int64\n",
      "Pclass         891 non-null int64\n",
      "Name           891 non-null object\n",
      "Sex            891 non-null object\n",
      "Age            714 non-null float64\n",
      "SibSp          891 non-null int64\n",
      "Parch          891 non-null int64\n",
      "Ticket         891 non-null object\n",
      "Fare           891 non-null float64\n",
      "Cabin          204 non-null object\n",
      "Embarked       889 non-null object\n",
      "dtypes: float64(2), int64(5), object(5)\n",
      "memory usage: 83.6+ KB\n",
      "None\n",
      "<class 'pandas.core.frame.DataFrame'>\n",
      "RangeIndex: 418 entries, 0 to 417\n",
      "Data columns (total 11 columns):\n",
      "PassengerId    418 non-null int64\n",
      "Pclass         418 non-null int64\n",
      "Name           418 non-null object\n",
      "Sex            418 non-null object\n",
      "Age            332 non-null float64\n",
      "SibSp          418 non-null int64\n",
      "Parch          418 non-null int64\n",
      "Ticket         418 non-null object\n",
      "Fare           417 non-null float64\n",
      "Cabin          91 non-null object\n",
      "Embarked       418 non-null object\n",
      "dtypes: float64(2), int64(4), object(5)\n",
      "memory usage: 36.0+ KB\n",
      "None\n"
     ]
    }
   ],
   "source": [
    "%matplotlib inline\n",
    "import numpy as np\n",
    "import pandas as pd\n",
    "import matplotlib.pyplot as plt\n",
    "import seaborn as sns\n",
    "import re as re\n",
    "\n",
    "train = pd.read_csv('./data/train.csv', header = 0, dtype={'Age': np.float64})\n",
    "test  = pd.read_csv('./data/test.csv' , header = 0, dtype={'Age': np.float64})\n",
    "full_data = [train, test]\n",
    "\n",
    "print(train.info())\n",
    "print(test.info())"
   ]
  },
  {
   "cell_type": "code",
   "execution_count": 279,
   "metadata": {},
   "outputs": [
    {
     "data": {
      "image/png": "[encoded data removed]",
      "text/plain": [
       "<matplotlib.figure.Figure at 0x11360b9e8>"
      ]
     },
     "metadata": {},
     "output_type": "display_data"
    }
   ],
   "source": [
    "fig=plt.figure()\n",
    "fig.set(alpha=0.65) \n",
    "plt.title(u\"The survival situation based on pclass and sex\")\n",
    "\n",
    "ax1=fig.add_subplot(141)\n",
    "train.Survived[train.Sex == 'female'][train.Pclass != 3].value_counts().plot(kind='bar', label=\"female highclass\", color='#FA2479')\n",
    "ax1.set_xticklabels([u\"survived\", u\"unsurvived\"], rotation=0)\n",
    "ax1.legend([u\"Female/High-class\"], loc='best')\n",
    "\n",
    "ax2=fig.add_subplot(142, sharey=ax1)\n",
    "train.Survived[train.Sex == 'female'][train.Pclass == 3].value_counts().plot(kind='bar', label='female, low class', color='pink')\n",
    "ax2.set_xticklabels([u\"unsurvived\", u\"survived\"], rotation=0)\n",
    "plt.legend([u\"Female/Low-class\"], loc='best')\n",
    "\n",
    "ax3=fig.add_subplot(143, sharey=ax1)\n",
    "train.Survived[train.Sex == 'male'][train.Pclass != 3].value_counts().plot(kind='bar', label='male, high class',color='lightblue')\n",
    "ax3.set_xticklabels([u\"unsurvived\", u\"survived\"], rotation=0)\n",
    "plt.legend([u\"Male/High class\"], loc='best')\n",
    "\n",
    "ax4=fig.add_subplot(144, sharey=ax1)\n",
    "train.Survived[train.Sex == 'male'][train.Pclass == 3].value_counts().plot(kind='bar', label='male low class', color='steelblue')\n",
    "ax4.set_xticklabels([u\"unsurvived\", u\"survived\"], rotation=0)\n",
    "plt.legend([u\"Male/Low class\"], loc='best')\n",
    "\n",
    "plt.show()"
   ]
  },
  {
   "cell_type": "markdown",
   "metadata": {},
   "source": [
    "# Feature Engineering"
   ]
  },
  {
   "cell_type": "markdown",
   "metadata": {},
   "source": [
    "# 1. Pclass"
   ]
  },
  {
   "cell_type": "code",
   "execution_count": 280,
   "metadata": {},
   "outputs": [
    {
     "name": "stdout",
     "output_type": "stream",
     "text": [
      "   Pclass  Survived\n",
      "0       1  0.629630\n",
      "1       2  0.472826\n",
      "2       3  0.242363\n"
     ]
    }
   ],
   "source": [
    "print (train[['Pclass', 'Survived']].groupby(['Pclass'], as_index=False).mean())"
   ]
  },
  {
   "cell_type": "markdown",
   "metadata": {},
   "source": [
    "# 2. Sex"
   ]
  },
  {
   "cell_type": "code",
   "execution_count": 281,
   "metadata": {},
   "outputs": [
    {
     "name": "stdout",
     "output_type": "stream",
     "text": [
      "      Sex  Survived\n",
      "0  female  0.742038\n",
      "1    male  0.188908\n"
     ]
    }
   ],
   "source": [
    "print (train[[\"Sex\", \"Survived\"]].groupby(['Sex'], as_index=False).mean())"
   ]
  },
  {
   "cell_type": "markdown",
   "metadata": {},
   "source": [
    "# 3. Family Size (SibSp and Parch)\n",
    "With the number of siblings/spouse and the number of children/parents we can create new feature called Family Size."
   ]
  },
  {
   "cell_type": "code",
   "execution_count": 282,
   "metadata": {},
   "outputs": [
    {
     "name": "stdout",
     "output_type": "stream",
     "text": [
      "   FamilySize  Survived\n",
      "0           1  0.303538\n",
      "1           2  0.552795\n",
      "2           3  0.578431\n",
      "3           4  0.724138\n",
      "4           5  0.200000\n",
      "5           6  0.136364\n",
      "6           7  0.333333\n",
      "7           8  0.000000\n",
      "8          11  0.000000\n"
     ]
    }
   ],
   "source": [
    "for dataset in full_data:\n",
    "    dataset['FamilySize']=dataset['SibSp']+dataset['Parch']+1\n",
    "print(train[[\"FamilySize\",\"Survived\"]].groupby(['FamilySize'],as_index=False).mean())"
   ]
  },
  {
   "cell_type": "markdown",
   "metadata": {},
   "source": [
    "# 4. IsAlone"
   ]
  },
  {
   "cell_type": "code",
   "execution_count": 283,
   "metadata": {},
   "outputs": [
    {
     "name": "stdout",
     "output_type": "stream",
     "text": [
      "   IsAlone  Survived\n",
      "0        0  0.505650\n",
      "1        1  0.303538\n"
     ]
    }
   ],
   "source": [
    "for dataset in full_data:\n",
    "    dataset['IsAlone'] = 0\n",
    "    dataset.loc[dataset['FamilySize'] == 1, 'IsAlone'] = 1\n",
    "print (train[['IsAlone', 'Survived']].groupby(['IsAlone'], as_index=False).mean())"
   ]
  },
  {
   "cell_type": "markdown",
   "metadata": {},
   "source": [
    "# 5. Embarked"
   ]
  },
  {
   "cell_type": "code",
   "execution_count": 284,
   "metadata": {},
   "outputs": [
    {
     "name": "stdout",
     "output_type": "stream",
     "text": [
      "  Embarked  Survived\n",
      "0        C  0.553571\n",
      "1        Q  0.389610\n",
      "2        S  0.339009\n"
     ]
    }
   ],
   "source": [
    "for dataset in full_data:\n",
    "    dataset['Embarked'] = dataset['Embarked'].fillna('S')\n",
    "print (train[['Embarked', 'Survived']].groupby(['Embarked'], as_index=False).mean())"
   ]
  },
  {
   "cell_type": "markdown",
   "metadata": {},
   "source": [
    "# 6. Title \n",
    "find the title of person from their names"
   ]
  },
  {
   "cell_type": "code",
   "execution_count": 285,
   "metadata": {},
   "outputs": [
    {
     "name": "stdout",
     "output_type": "stream",
     "text": [
      "Sex       female  male\n",
      "Title                 \n",
      "Capt           0     1\n",
      "Col            0     2\n",
      "Countess       1     0\n",
      "Don            0     1\n",
      "Dr             1     6\n",
      "Jonkheer       0     1\n",
      "Lady           1     0\n",
      "Major          0     2\n",
      "Master         0    40\n",
      "Miss         182     0\n",
      "Mlle           2     0\n",
      "Mme            1     0\n",
      "Mr             0   517\n",
      "Mrs          125     0\n",
      "Ms             1     0\n",
      "Rev            0     6\n",
      "Sir            0     1\n"
     ]
    }
   ],
   "source": [
    "def get_title(name):\n",
    "    title_search = re.search(' ([A-Za-z]+)\\.', name)\n",
    "    # If the title exists, extract and return it.\n",
    "    if title_search:\n",
    "        return title_search.group(1)\n",
    "    return \"\"\n",
    "\n",
    "for dataset in full_data:\n",
    "    dataset['Title'] = dataset['Name'].apply(get_title)\n",
    "\n",
    "print(pd.crosstab(train['Title'], train['Sex']))"
   ]
  },
  {
   "cell_type": "code",
   "execution_count": 286,
   "metadata": {
    "scrolled": true
   },
   "outputs": [
    {
     "name": "stdout",
     "output_type": "stream",
     "text": [
      "    Title  Survived\n",
      "0  Master  0.575000\n",
      "1    Miss  0.704301\n",
      "2      Mr  0.158301\n",
      "3     Mrs  0.793651\n",
      "4    Rare  0.285714\n",
      "   Title  Survived\n",
      "0      1  0.158301\n",
      "1      2  0.704301\n",
      "2      3  0.793651\n",
      "3      4  0.575000\n",
      "4      5  0.285714\n"
     ]
    }
   ],
   "source": [
    "for dataset in full_data:\n",
    "    dataset['Title'] = dataset['Title'].replace(['Countess','Capt', 'Col',\n",
    "                                                 'Don', 'Dr', 'Major', 'Rev', 'Jonkheer', 'Dona'], 'Rare')\n",
    "    \n",
    "    dataset['Title'] = dataset['Title'].replace('Sir', 'Mr')\n",
    "    dataset['Title'] = dataset['Title'].replace('Lady', 'Miss')\n",
    "    dataset['Title'] = dataset['Title'].replace('Mlle', 'Miss')\n",
    "    dataset['Title'] = dataset['Title'].replace('Ms', 'Miss')\n",
    "    dataset['Title'] = dataset['Title'].replace('Mme', 'Mrs')\n",
    "\n",
    "print (train[['Title', 'Survived']].groupby(['Title'], as_index=False).mean())\n",
    "\n",
    "# CLEAN \"TITLE\" DATA\n",
    "for dataset in full_data:\n",
    "    # Mapping titles\n",
    "    title_mapping = {\"Mr\": 1, \"Miss\": 2, \"Mrs\": 3, \"Master\": 4, \"Rare\": 5}\n",
    "    dataset['Title'] = dataset['Title'].map(title_mapping)\n",
    "    dataset['Title'] = dataset['Title'].fillna(0)\n",
    "    dataset['Title'] = dataset['Title'].astype(int)\n",
    "\n",
    "\n",
    "print (train[['Title', 'Survived']].groupby(['Title'], as_index=False).mean())"
   ]
  },
  {
   "cell_type": "markdown",
   "metadata": {},
   "source": [
    "# 7. Fare"
   ]
  },
  {
   "cell_type": "code",
   "execution_count": 10,
   "metadata": {},
   "outputs": [
    {
     "name": "stdout",
     "output_type": "stream",
     "text": [
      "     CategoricalFare  Survived\n",
      "0    (-0.001, 7.854]  0.217877\n",
      "1      (7.854, 10.5]  0.201087\n",
      "2     (10.5, 21.679]  0.424419\n",
      "3   (21.679, 39.688]  0.444444\n",
      "4  (39.688, 512.329]  0.642045\n",
      "<class 'pandas.core.frame.DataFrame'>\n",
      "RangeIndex: 418 entries, 0 to 417\n",
      "Data columns (total 11 columns):\n",
      "PassengerId    418 non-null int64\n",
      "Pclass         418 non-null int64\n",
      "Name           418 non-null object\n",
      "Sex            418 non-null object\n",
      "Age            332 non-null float64\n",
      "SibSp          418 non-null int64\n",
      "Parch          418 non-null int64\n",
      "Ticket         418 non-null object\n",
      "Fare           418 non-null float64\n",
      "Cabin          91 non-null object\n",
      "Embarked       418 non-null object\n",
      "dtypes: float64(2), int64(4), object(5)\n",
      "memory usage: 36.0+ KB\n",
      "None\n"
     ]
    }
   ],
   "source": [
    "train['CategoricalFare'] = pd.qcut(train['Fare'],5)\n",
    "print (train[['CategoricalFare', 'Survived']].groupby(['CategoricalFare'], as_index=False).mean())\n",
    "\n",
    "for dataset in full_data:\n",
    "    fare_avg \t   = dataset['Fare'].mean()\n",
    "    fare_std \t   = dataset['Fare'].std()\n",
    "    fare_null_count = dataset['Fare'].isnull().sum()\n",
    "    \n",
    "    fare_null_random_list = np.random.randint(fare_avg - fare_std, fare_avg + fare_std, size=fare_null_count)\n",
    "    dataset.loc[dataset['Fare'].isnull(),'Fare'] = fare_null_random_list\n",
    "   \n",
    "\n",
    "print(test.info())"
   ]
  },
  {
   "cell_type": "markdown",
   "metadata": {},
   "source": [
    "# 8. Age"
   ]
  },
  {
   "cell_type": "code",
   "execution_count": 288,
   "metadata": {},
   "outputs": [
    {
     "name": "stdout",
     "output_type": "stream",
     "text": [
      "     CategoricalAge  Survived\n",
      "0   (-0.08, 13.333]  0.555556\n",
      "1  (13.333, 26.667]  0.380952\n",
      "2    (26.667, 40.0]  0.349296\n",
      "3    (40.0, 53.333]  0.405405\n",
      "4  (53.333, 66.667]  0.348837\n",
      "5    (66.667, 80.0]  0.142857\n",
      "<class 'pandas.core.frame.DataFrame'>\n",
      "RangeIndex: 891 entries, 0 to 890\n",
      "Data columns (total 17 columns):\n",
      "PassengerId        891 non-null int64\n",
      "Survived           891 non-null int64\n",
      "Pclass             891 non-null int64\n",
      "Name               891 non-null object\n",
      "Sex                891 non-null object\n",
      "Age                891 non-null int64\n",
      "SibSp              891 non-null int64\n",
      "Parch              891 non-null int64\n",
      "Ticket             891 non-null object\n",
      "Fare               891 non-null int64\n",
      "Cabin              891 non-null object\n",
      "Embarked           891 non-null object\n",
      "FamilySize         891 non-null int64\n",
      "IsAlone            891 non-null int64\n",
      "Title              891 non-null int64\n",
      "CategoricalFare    891 non-null category\n",
      "CategoricalAge     891 non-null category\n",
      "dtypes: category(2), int64(10), object(5)\n",
      "memory usage: 106.4+ KB\n",
      "None\n",
      "<class 'pandas.core.frame.DataFrame'>\n",
      "RangeIndex: 418 entries, 0 to 417\n",
      "Data columns (total 14 columns):\n",
      "PassengerId    418 non-null int64\n",
      "Pclass         418 non-null int64\n",
      "Name           418 non-null object\n",
      "Sex            418 non-null object\n",
      "Age            418 non-null int64\n",
      "SibSp          418 non-null int64\n",
      "Parch          418 non-null int64\n",
      "Ticket         418 non-null object\n",
      "Fare           418 non-null int64\n",
      "Cabin          418 non-null object\n",
      "Embarked       418 non-null object\n",
      "FamilySize     418 non-null int64\n",
      "IsAlone        418 non-null int64\n",
      "Title          418 non-null int64\n",
      "dtypes: int64(9), object(5)\n",
      "memory usage: 45.8+ KB\n",
      "None\n"
     ]
    }
   ],
   "source": [
    "from sklearn.ensemble import RandomForestRegressor\n",
    "\n",
    "### using RandomForestClassifier to fill the missing data in Age Attribute \n",
    "def set_missing_ages(df):\n",
    "\n",
    "    # put existing characters into Random Forest Regressor Model\n",
    "    age_df = df[['Age','Fare', 'Parch', 'SibSp', 'Pclass','Title']]\n",
    "\n",
    "    # customers can be separated into two category: known_age and unkown_age\n",
    "    known_age = age_df[age_df.Age.notnull()].as_matrix()\n",
    "    unknown_age = age_df[age_df.Age.isnull()].as_matrix()\n",
    "\n",
    "    # y means target age\n",
    "    y = known_age[:, 0]\n",
    "\n",
    "    # X means attribute feature\n",
    "    X = known_age[:, 1:]\n",
    "\n",
    "    # fit in RandomForestRegressor\n",
    "    rfr = RandomForestRegressor(random_state=0, n_estimators=2000, n_jobs=-1)\n",
    "    rfr.fit(X, y)\n",
    "\n",
    "    # predict the ages based on the model\n",
    "    predictedAges = rfr.predict(unknown_age[:, 1::])\n",
    "\n",
    "    # fill the predictive ages into the missing data\n",
    "    df.loc[ (df.Age.isnull()), 'Age' ] = predictedAges\n",
    "    df['Age'] = df['Age'].astype(int)\n",
    "\n",
    "    return df, rfr\n",
    "\n",
    "def set_Cabin_type(df):\n",
    "    df.loc[ (df.Cabin.notnull()), 'Cabin' ] = \"Yes\"\n",
    "    df.loc[ (df.Cabin.isnull()), 'Cabin' ] = \"No\"\n",
    "    return df\n",
    "\n",
    "train.head()\n",
    "train, rfr = set_missing_ages(train)\n",
    "train = set_Cabin_type(train)\n",
    "\n",
    "test, rfr = set_missing_ages(test)\n",
    "test = set_Cabin_type(test)\n",
    "\n",
    "train['CategoricalAge'] = pd.cut(train['Age'],6)\n",
    "print (train[['CategoricalAge', 'Survived']].groupby(['CategoricalAge'], as_index=False).mean())\n",
    "\n",
    "print(train.info())\n",
    "print(test.info())"
   ]
  },
  {
   "cell_type": "markdown",
   "metadata": {},
   "source": [
    "# 9. Person"
   ]
  },
  {
   "cell_type": "code",
   "execution_count": 289,
   "metadata": {},
   "outputs": [
    {
     "data": {
      "text/html": [
       "<div>\n",
       "<style scoped>\n",
       "    .dataframe tbody tr th:only-of-type {\n",
       "        vertical-align: middle;\n",
       "    }\n",
       "\n",
       "    .dataframe tbody tr th {\n",
       "        vertical-align: top;\n",
       "    }\n",
       "\n",
       "    .dataframe thead th {\n",
       "        text-align: right;\n",
       "    }\n",
       "</style>\n",
       "<table border=\"1\" class=\"dataframe\">\n",
       "  <thead>\n",
       "    <tr style=\"text-align: right;\">\n",
       "      <th></th>\n",
       "      <th>PassengerId</th>\n",
       "      <th>Survived</th>\n",
       "      <th>Pclass</th>\n",
       "      <th>Name</th>\n",
       "      <th>Sex</th>\n",
       "      <th>Age</th>\n",
       "      <th>SibSp</th>\n",
       "      <th>Parch</th>\n",
       "      <th>Ticket</th>\n",
       "      <th>Fare</th>\n",
       "      <th>Cabin</th>\n",
       "      <th>Embarked</th>\n",
       "      <th>FamilySize</th>\n",
       "      <th>IsAlone</th>\n",
       "      <th>Title</th>\n",
       "      <th>CategoricalFare</th>\n",
       "      <th>CategoricalAge</th>\n",
       "      <th>Person</th>\n",
       "    </tr>\n",
       "  </thead>\n",
       "  <tbody>\n",
       "    <tr>\n",
       "      <th>0</th>\n",
       "      <td>1</td>\n",
       "      <td>0</td>\n",
       "      <td>3</td>\n",
       "      <td>Braund, Mr. Owen Harris</td>\n",
       "      <td>male</td>\n",
       "      <td>22</td>\n",
       "      <td>1</td>\n",
       "      <td>0</td>\n",
       "      <td>A/5 21171</td>\n",
       "      <td>7</td>\n",
       "      <td>No</td>\n",
       "      <td>S</td>\n",
       "      <td>2</td>\n",
       "      <td>0</td>\n",
       "      <td>1</td>\n",
       "      <td>(-0.001, 7.854]</td>\n",
       "      <td>(13.333, 26.667]</td>\n",
       "      <td>male</td>\n",
       "    </tr>\n",
       "    <tr>\n",
       "      <th>1</th>\n",
       "      <td>2</td>\n",
       "      <td>1</td>\n",
       "      <td>1</td>\n",
       "      <td>Cumings, Mrs. John Bradley (Florence Briggs Th...</td>\n",
       "      <td>female</td>\n",
       "      <td>38</td>\n",
       "      <td>1</td>\n",
       "      <td>0</td>\n",
       "      <td>PC 17599</td>\n",
       "      <td>71</td>\n",
       "      <td>Yes</td>\n",
       "      <td>C</td>\n",
       "      <td>2</td>\n",
       "      <td>0</td>\n",
       "      <td>3</td>\n",
       "      <td>(39.688, 512.329]</td>\n",
       "      <td>(26.667, 40.0]</td>\n",
       "      <td>female</td>\n",
       "    </tr>\n",
       "    <tr>\n",
       "      <th>2</th>\n",
       "      <td>3</td>\n",
       "      <td>1</td>\n",
       "      <td>3</td>\n",
       "      <td>Heikkinen, Miss. Laina</td>\n",
       "      <td>female</td>\n",
       "      <td>26</td>\n",
       "      <td>0</td>\n",
       "      <td>0</td>\n",
       "      <td>STON/O2. 3101282</td>\n",
       "      <td>7</td>\n",
       "      <td>No</td>\n",
       "      <td>S</td>\n",
       "      <td>1</td>\n",
       "      <td>1</td>\n",
       "      <td>2</td>\n",
       "      <td>(7.854, 10.5]</td>\n",
       "      <td>(13.333, 26.667]</td>\n",
       "      <td>female</td>\n",
       "    </tr>\n",
       "    <tr>\n",
       "      <th>3</th>\n",
       "      <td>4</td>\n",
       "      <td>1</td>\n",
       "      <td>1</td>\n",
       "      <td>Futrelle, Mrs. Jacques Heath (Lily May Peel)</td>\n",
       "      <td>female</td>\n",
       "      <td>35</td>\n",
       "      <td>1</td>\n",
       "      <td>0</td>\n",
       "      <td>113803</td>\n",
       "      <td>53</td>\n",
       "      <td>Yes</td>\n",
       "      <td>S</td>\n",
       "      <td>2</td>\n",
       "      <td>0</td>\n",
       "      <td>3</td>\n",
       "      <td>(39.688, 512.329]</td>\n",
       "      <td>(26.667, 40.0]</td>\n",
       "      <td>female</td>\n",
       "    </tr>\n",
       "    <tr>\n",
       "      <th>4</th>\n",
       "      <td>5</td>\n",
       "      <td>0</td>\n",
       "      <td>3</td>\n",
       "      <td>Allen, Mr. William Henry</td>\n",
       "      <td>male</td>\n",
       "      <td>35</td>\n",
       "      <td>0</td>\n",
       "      <td>0</td>\n",
       "      <td>373450</td>\n",
       "      <td>8</td>\n",
       "      <td>No</td>\n",
       "      <td>S</td>\n",
       "      <td>1</td>\n",
       "      <td>1</td>\n",
       "      <td>1</td>\n",
       "      <td>(7.854, 10.5]</td>\n",
       "      <td>(26.667, 40.0]</td>\n",
       "      <td>male</td>\n",
       "    </tr>\n",
       "  </tbody>\n",
       "</table>\n",
       "</div>"
      ],
      "text/plain": [
       "   PassengerId  Survived  Pclass  \\\n",
       "0            1         0       3   \n",
       "1            2         1       1   \n",
       "2            3         1       3   \n",
       "3            4         1       1   \n",
       "4            5         0       3   \n",
       "\n",
       "                                                Name     Sex  Age  SibSp  \\\n",
       "0                            Braund, Mr. Owen Harris    male   22      1   \n",
       "1  Cumings, Mrs. John Bradley (Florence Briggs Th...  female   38      1   \n",
       "2                             Heikkinen, Miss. Laina  female   26      0   \n",
       "3       Futrelle, Mrs. Jacques Heath (Lily May Peel)  female   35      1   \n",
       "4                           Allen, Mr. William Henry    male   35      0   \n",
       "\n",
       "   Parch            Ticket  Fare Cabin Embarked  FamilySize  IsAlone  Title  \\\n",
       "0      0         A/5 21171     7    No        S           2        0      1   \n",
       "1      0          PC 17599    71   Yes        C           2        0      3   \n",
       "2      0  STON/O2. 3101282     7    No        S           1        1      2   \n",
       "3      0            113803    53   Yes        S           2        0      3   \n",
       "4      0            373450     8    No        S           1        1      1   \n",
       "\n",
       "     CategoricalFare    CategoricalAge  Person  \n",
       "0    (-0.001, 7.854]  (13.333, 26.667]    male  \n",
       "1  (39.688, 512.329]    (26.667, 40.0]  female  \n",
       "2      (7.854, 10.5]  (13.333, 26.667]  female  \n",
       "3  (39.688, 512.329]    (26.667, 40.0]  female  \n",
       "4      (7.854, 10.5]    (26.667, 40.0]    male  "
      ]
     },
     "execution_count": 289,
     "metadata": {},
     "output_type": "execute_result"
    }
   ],
   "source": [
    "def male_female_child_elder(passenger):\n",
    "    # Take the Age and Sex\n",
    "    age,sex = passenger\n",
    "    # Compare the age, otherwise leave the sex\n",
    "    if age < 14:\n",
    "        return 'child'\n",
    "    elif age >= 67:\n",
    "        return 'elder'\n",
    "    else:\n",
    "        return sex\n",
    "for data in full_data:\n",
    "    data['Person'] = data[['Age', 'Sex']].apply(male_female_child_elder, axis=1)\n",
    "\n",
    "train.head()"
   ]
  },
  {
   "cell_type": "markdown",
   "metadata": {},
   "source": [
    "# Data cleaning"
   ]
  },
  {
   "cell_type": "code",
   "execution_count": 291,
   "metadata": {},
   "outputs": [
    {
     "name": "stdout",
     "output_type": "stream",
     "text": [
      "    PassengerId  Survived  Pclass  Age  Fare  Embarked  FamilySize  IsAlone  \\\n",
      "0             1         0       3    1     0         0           2        0   \n",
      "1             2         1       1    2     4         1           2        0   \n",
      "2             3         1       3    1     0         0           1        1   \n",
      "3             4         1       1    2     4         0           2        0   \n",
      "4             5         0       3    2     1         0           1        1   \n",
      "5             6         0       3    2     1         2           1        1   \n",
      "6             7         0       1    4     4         0           1        1   \n",
      "7             8         0       3    0     2         0           5        0   \n",
      "8             9         1       3    2     2         0           3        0   \n",
      "9            10         1       2    1     3         1           2        0   \n",
      "10           11         1       3    0     2         0           3        0   \n",
      "11           12         1       1    4     3         0           1        1   \n",
      "12           13         0       3    1     1         0           1        1   \n",
      "13           14         0       3    2     3         0           7        0   \n",
      "14           15         0       3    1     0         0           1        1   \n",
      "15           16         1       2    4     2         0           1        1   \n",
      "16           17         0       3    0     3         2           6        0   \n",
      "17           18         1       2    2     2         0           1        1   \n",
      "18           19         0       3    2     2         0           2        0   \n",
      "19           20         1       3    2     0         1           1        1   \n",
      "\n",
      "    Title  Person  \n",
      "0       1       1  \n",
      "1       3       0  \n",
      "2       2       0  \n",
      "3       3       0  \n",
      "4       1       1  \n",
      "5       1       1  \n",
      "6       1       1  \n",
      "7       4       2  \n",
      "8       3       0  \n",
      "9       3       0  \n",
      "10      2       2  \n",
      "11      2       0  \n",
      "12      1       1  \n",
      "13      1       1  \n",
      "14      2       0  \n",
      "15      3       0  \n",
      "16      4       2  \n",
      "17      1       1  \n",
      "18      3       0  \n",
      "19      3       0  \n"
     ]
    }
   ],
   "source": [
    "for dataset in full_data:\n",
    "    # Mapping Person\n",
    "    dataset['Person'] = dataset['Person'].map( {'female': 0, 'male': 1,'child':2, 'elder':3} ).astype(int)\n",
    "       \n",
    "    # Mapping Embarked\n",
    "    dataset['Embarked'] = dataset['Embarked'].map( {'S': 0, 'C': 1, 'Q': 2} ).astype(int)\n",
    "    \n",
    "    # Mapping Fare\n",
    "    dataset.loc[ dataset['Fare'] <= 7.854, 'Fare'] \t\t\t\t\t\t          = 0\n",
    "    dataset.loc[(dataset['Fare'] > 7.854) & (dataset['Fare'] <= 10.5), 'Fare']    = 1\n",
    "    dataset.loc[(dataset['Fare'] > 10.5) & (dataset['Fare'] <= 21.679), 'Fare']   = 2\n",
    "    dataset.loc[(dataset['Fare'] > 21.679) & (dataset['Fare'] <= 39.688), 'Fare'] = 3\n",
    "    dataset.loc[ dataset['Fare'] > 39.688, 'Fare'] \t\t\t\t\t\t\t      = 4\n",
    "    dataset['Fare'] = dataset['Fare'].astype(int)\n",
    "    \n",
    "    #Mapping Title\n",
    "    \n",
    "    \n",
    "    # Mapping Age\n",
    "    dataset.loc[ dataset['Age'] < 14, 'Age'] \t\t\t\t\t       = 0\n",
    "    dataset.loc[(dataset['Age'] >= 14) & (dataset['Age'] < 27), 'Age'] = 1\n",
    "    dataset.loc[(dataset['Age'] >= 27) & (dataset['Age'] < 40), 'Age'] = 2\n",
    "    dataset.loc[(dataset['Age'] >= 40) & (dataset['Age'] < 54), 'Age'] = 3\n",
    "    dataset.loc[(dataset['Age'] >= 54) & (dataset['Age'] < 67), 'Age'] = 4\n",
    "    dataset.loc[ dataset['Age'] >= 67, 'Age']                          = 5\n",
    "\n",
    "# Feature Selection\n",
    "drop_elements = ['Name','Sex','Ticket', 'Cabin', 'SibSp','Parch']\n",
    "\n",
    "train = train.drop(drop_elements, axis = 1)\n",
    "train = train.drop(['CategoricalAge', 'CategoricalFare'], axis = 1)\n",
    "\n",
    "test  = test.drop(drop_elements, axis = 1)\n",
    "\n",
    "print (train.head(20))\n"
   ]
  },
  {
   "cell_type": "markdown",
   "metadata": {},
   "source": [
    "# load inputs (training set and test set)"
   ]
  },
  {
   "cell_type": "code",
   "execution_count": 292,
   "metadata": {
    "collapsed": true
   },
   "outputs": [],
   "source": [
    "features = ['Pclass', 'Age',  'Fare', 'Embarked', 'FamilySize','IsAlone','Title','Person'] \n",
    "X_train = train[features]\n",
    "y_train = train['Survived']\n",
    "X_test = test[features]\n",
    "\n",
    "inputs = X_train, y_train, X_test"
   ]
  },
  {
   "cell_type": "markdown",
   "metadata": {},
   "source": [
    "# Model Selection"
   ]
  },
  {
   "cell_type": "code",
   "execution_count": 293,
   "metadata": {
    "collapsed": true
   },
   "outputs": [],
   "source": [
    "from sklearn.linear_model import LogisticRegression\n",
    "from sklearn.svm import SVC, LinearSVC\n",
    "from sklearn.ensemble import RandomForestClassifier\n",
    "from sklearn.neighbors import KNeighborsClassifier\n",
    "from sklearn.naive_bayes import GaussianNB\n",
    "from sklearn.tree import DecisionTreeClassifier\n",
    "\n",
    "\n",
    "def models():\n",
    "    return [LogisticRegression(),\n",
    "            SVC(),\n",
    "            LinearSVC(),\n",
    "            RandomForestClassifier(),\n",
    "            KNeighborsClassifier(),\n",
    "            GaussianNB(),\n",
    "            DecisionTreeClassifier()]"
   ]
  },
  {
   "cell_type": "code",
   "execution_count": 297,
   "metadata": {
    "collapsed": true
   },
   "outputs": [],
   "source": [
    "def name(model):\n",
    "    return model.__class__.__name__\n",
    "\n",
    "\n",
    "def best_model(model2predict):\n",
    "    score_df = series_best_first(model2predict)\n",
    "    print(score_df)\n",
    "    return score_df.keys()[0]\n",
    "\n",
    "\n",
    "def series_best_first(model2predict):\n",
    "    model2score = {k: v[1] for k, v in model2predict.items()}\n",
    "    return pd.Series(model2score).sort_values(ascending=False)\n",
    "\n",
    "\n",
    "def write_submission(predict, submission_csv):\n",
    "    submission = pd.DataFrame({\n",
    "        \"PassengerId\": test[\"PassengerId\"],\n",
    "        \"Survived\": predict\n",
    "    })\n",
    "    submission.to_csv(submission_csv, index=False)\n",
    "    return pd.read_csv(submission_csv).tail(10)"
   ]
  },
  {
   "cell_type": "markdown",
   "metadata": {},
   "source": [
    "# Model Selection based on the score method¶\n"
   ]
  },
  {
   "cell_type": "code",
   "execution_count": 298,
   "metadata": {},
   "outputs": [
    {
     "name": "stdout",
     "output_type": "stream",
     "text": [
      "DecisionTreeClassifier    0.894501\n",
      "RandomForestClassifier    0.888889\n",
      "KNeighborsClassifier      0.854097\n",
      "SVC                       0.842873\n",
      "LinearSVC                 0.802469\n",
      "GaussianNB                0.793490\n",
      "LogisticRegression        0.792368\n",
      "dtype: float64\n"
     ]
    },
    {
     "data": {
      "text/html": [
       "<div>\n",
       "<style scoped>\n",
       "    .dataframe tbody tr th:only-of-type {\n",
       "        vertical-align: middle;\n",
       "    }\n",
       "\n",
       "    .dataframe tbody tr th {\n",
       "        vertical-align: top;\n",
       "    }\n",
       "\n",
       "    .dataframe thead th {\n",
       "        text-align: right;\n",
       "    }\n",
       "</style>\n",
       "<table border=\"1\" class=\"dataframe\">\n",
       "  <thead>\n",
       "    <tr style=\"text-align: right;\">\n",
       "      <th></th>\n",
       "      <th>PassengerId</th>\n",
       "      <th>Survived</th>\n",
       "    </tr>\n",
       "  </thead>\n",
       "  <tbody>\n",
       "    <tr>\n",
       "      <th>408</th>\n",
       "      <td>1300</td>\n",
       "      <td>1</td>\n",
       "    </tr>\n",
       "    <tr>\n",
       "      <th>409</th>\n",
       "      <td>1301</td>\n",
       "      <td>1</td>\n",
       "    </tr>\n",
       "    <tr>\n",
       "      <th>410</th>\n",
       "      <td>1302</td>\n",
       "      <td>1</td>\n",
       "    </tr>\n",
       "    <tr>\n",
       "      <th>411</th>\n",
       "      <td>1303</td>\n",
       "      <td>1</td>\n",
       "    </tr>\n",
       "    <tr>\n",
       "      <th>412</th>\n",
       "      <td>1304</td>\n",
       "      <td>0</td>\n",
       "    </tr>\n",
       "    <tr>\n",
       "      <th>413</th>\n",
       "      <td>1305</td>\n",
       "      <td>0</td>\n",
       "    </tr>\n",
       "    <tr>\n",
       "      <th>414</th>\n",
       "      <td>1306</td>\n",
       "      <td>1</td>\n",
       "    </tr>\n",
       "    <tr>\n",
       "      <th>415</th>\n",
       "      <td>1307</td>\n",
       "      <td>0</td>\n",
       "    </tr>\n",
       "    <tr>\n",
       "      <th>416</th>\n",
       "      <td>1308</td>\n",
       "      <td>0</td>\n",
       "    </tr>\n",
       "    <tr>\n",
       "      <th>417</th>\n",
       "      <td>1309</td>\n",
       "      <td>1</td>\n",
       "    </tr>\n",
       "  </tbody>\n",
       "</table>\n",
       "</div>"
      ],
      "text/plain": [
       "     PassengerId  Survived\n",
       "408         1300         1\n",
       "409         1301         1\n",
       "410         1302         1\n",
       "411         1303         1\n",
       "412         1304         0\n",
       "413         1305         0\n",
       "414         1306         1\n",
       "415         1307         0\n",
       "416         1308         0\n",
       "417         1309         1"
      ]
     },
     "execution_count": 298,
     "metadata": {},
     "output_type": "execute_result"
    }
   ],
   "source": [
    "def predict_and_score(model, inputs):\n",
    "    X, y, X_test = inputs\n",
    "    model.fit(X, y)\n",
    "    y_pred = model.predict(X_test)\n",
    "    return y_pred, model.score(X, y)\n",
    "\n",
    "\n",
    "table = {name(m): predict_and_score(m, inputs) for m in models()}\n",
    "model = best_model(table)\n",
    "write_submission(table[model][0], 'submission.csv')"
   ]
  },
  {
   "cell_type": "code",
   "execution_count": 299,
   "metadata": {
    "collapsed": true
   },
   "outputs": [],
   "source": [
    "from sklearn.model_selection import cross_val_score"
   ]
  },
  {
   "cell_type": "code",
   "execution_count": 300,
   "metadata": {},
   "outputs": [
    {
     "name": "stdout",
     "output_type": "stream",
     "text": [
      "SVC                       0.824877\n",
      "KNeighborsClassifier      0.818224\n",
      "RandomForestClassifier    0.813754\n",
      "DecisionTreeClassifier    0.804765\n",
      "LinearSVC                 0.798086\n",
      "LogisticRegression        0.792531\n",
      "GaussianNB                0.778073\n",
      "dtype: float64\n"
     ]
    },
    {
     "data": {
      "text/html": [
       "<div>\n",
       "<style scoped>\n",
       "    .dataframe tbody tr th:only-of-type {\n",
       "        vertical-align: middle;\n",
       "    }\n",
       "\n",
       "    .dataframe tbody tr th {\n",
       "        vertical-align: top;\n",
       "    }\n",
       "\n",
       "    .dataframe thead th {\n",
       "        text-align: right;\n",
       "    }\n",
       "</style>\n",
       "<table border=\"1\" class=\"dataframe\">\n",
       "  <thead>\n",
       "    <tr style=\"text-align: right;\">\n",
       "      <th></th>\n",
       "      <th>PassengerId</th>\n",
       "      <th>Survived</th>\n",
       "    </tr>\n",
       "  </thead>\n",
       "  <tbody>\n",
       "    <tr>\n",
       "      <th>408</th>\n",
       "      <td>1300</td>\n",
       "      <td>1</td>\n",
       "    </tr>\n",
       "    <tr>\n",
       "      <th>409</th>\n",
       "      <td>1301</td>\n",
       "      <td>1</td>\n",
       "    </tr>\n",
       "    <tr>\n",
       "      <th>410</th>\n",
       "      <td>1302</td>\n",
       "      <td>1</td>\n",
       "    </tr>\n",
       "    <tr>\n",
       "      <th>411</th>\n",
       "      <td>1303</td>\n",
       "      <td>1</td>\n",
       "    </tr>\n",
       "    <tr>\n",
       "      <th>412</th>\n",
       "      <td>1304</td>\n",
       "      <td>1</td>\n",
       "    </tr>\n",
       "    <tr>\n",
       "      <th>413</th>\n",
       "      <td>1305</td>\n",
       "      <td>0</td>\n",
       "    </tr>\n",
       "    <tr>\n",
       "      <th>414</th>\n",
       "      <td>1306</td>\n",
       "      <td>1</td>\n",
       "    </tr>\n",
       "    <tr>\n",
       "      <th>415</th>\n",
       "      <td>1307</td>\n",
       "      <td>0</td>\n",
       "    </tr>\n",
       "    <tr>\n",
       "      <th>416</th>\n",
       "      <td>1308</td>\n",
       "      <td>0</td>\n",
       "    </tr>\n",
       "    <tr>\n",
       "      <th>417</th>\n",
       "      <td>1309</td>\n",
       "      <td>1</td>\n",
       "    </tr>\n",
       "  </tbody>\n",
       "</table>\n",
       "</div>"
      ],
      "text/plain": [
       "     PassengerId  Survived\n",
       "408         1300         1\n",
       "409         1301         1\n",
       "410         1302         1\n",
       "411         1303         1\n",
       "412         1304         1\n",
       "413         1305         0\n",
       "414         1306         1\n",
       "415         1307         0\n",
       "416         1308         0\n",
       "417         1309         1"
      ]
     },
     "execution_count": 300,
     "metadata": {},
     "output_type": "execute_result"
    }
   ],
   "source": [
    "def predict_and_cv_score(model, inputs):\n",
    "    X, y, X_test = inputs\n",
    "    score = cross_val_score(model, X, y, cv=10, scoring='accuracy').mean()\n",
    "    model.fit(X, y)\n",
    "    return model.predict(X_test), score\n",
    "\n",
    "\n",
    "table = {name(m): predict_and_cv_score(m, inputs) for m in models()}\n",
    "model = best_model(table)\n",
    "write_submission(table[model][0], 'submission_sv.csv')"
   ]
  },
  {
   "cell_type": "markdown",
   "metadata": {},
   "source": [
    "# Improve prediction by parameter tuning¶"
   ]
  },
  {
   "cell_type": "markdown",
   "metadata": {},
   "source": [
    "KNN example¶"
   ]
  },
  {
   "cell_type": "code",
   "execution_count": 302,
   "metadata": {
    "collapsed": true
   },
   "outputs": [],
   "source": [
    "from sklearn.model_selection import train_test_split\n",
    "\n",
    "X = train[features]\n",
    "y = train['Survived']\n",
    "X_test = test[features]\n",
    "\n",
    "X_cv_train, X_cv_test, y_cv_train, y_cv_test = train_test_split(X, y, random_state=6)"
   ]
  },
  {
   "cell_type": "code",
   "execution_count": 303,
   "metadata": {},
   "outputs": [
    {
     "data": {
      "text/plain": [
       "array([0.77941176, 0.89552239, 0.86567164, 0.70149254, 0.91044776,\n",
       "       0.7761194 , 0.74626866, 0.78787879, 0.8030303 , 0.84848485])"
      ]
     },
     "execution_count": 303,
     "metadata": {},
     "output_type": "execute_result"
    }
   ],
   "source": [
    "# k = 5 (default) for KNeighborsClassifier\n",
    "knn = KNeighborsClassifier(n_neighbors=5)\n",
    "scores = cross_val_score(knn, X_cv_train, y_cv_train, cv=10, scoring='accuracy')\n",
    "scores"
   ]
  },
  {
   "cell_type": "code",
   "execution_count": 304,
   "metadata": {},
   "outputs": [
    {
     "data": {
      "text/plain": [
       "0.8114328092159523"
      ]
     },
     "execution_count": 304,
     "metadata": {},
     "output_type": "execute_result"
    }
   ],
   "source": [
    "scores.mean()"
   ]
  },
  {
   "cell_type": "code",
   "execution_count": 305,
   "metadata": {},
   "outputs": [
    {
     "data": {
      "text/plain": [
       "[0.7622196504110464,\n",
       " 0.774004975124378,\n",
       " 0.7919387022108707,\n",
       " 0.7993801048234762,\n",
       " 0.8114328092159523,\n",
       " 0.8158871418309521,\n",
       " 0.8069545321520739,\n",
       " 0.820409982174688,\n",
       " 0.8069099688722166,\n",
       " 0.8143493761140821,\n",
       " 0.8129472956075239,\n",
       " 0.8099163274536408,\n",
       " 0.8099622209806581,\n",
       " 0.8099163274536408,\n",
       " 0.8203880330965493,\n",
       " 0.814417883842818,\n",
       " 0.8054387155133422,\n",
       " 0.8159104211562507,\n",
       " 0.808424455263788,\n",
       " 0.8129014020805065,\n",
       " 0.8129027323276665,\n",
       " 0.8083133796259345,\n",
       " 0.814417883842818,\n",
       " 0.8067975629872031,\n",
       " 0.8113875808125149,\n",
       " 0.803834437438476,\n",
       " 0.7979088514646021,\n",
       " 0.7904228855721392,\n",
       " 0.7963943650730305,\n",
       " 0.7843855588368319]"
      ]
     },
     "execution_count": 305,
     "metadata": {},
     "output_type": "execute_result"
    }
   ],
   "source": [
    "k_range = range(1, 31)\n",
    "\n",
    "k_cv_scores = []\n",
    "for k in k_range:\n",
    "    knn = KNeighborsClassifier(n_neighbors=k)\n",
    "    scores = cross_val_score(knn, X_cv_train, y_cv_train, cv=10, scoring='accuracy')\n",
    "    k_cv_scores.append(scores.mean())\n",
    "    \n",
    "k_cv_scores"
   ]
  },
  {
   "cell_type": "code",
   "execution_count": 306,
   "metadata": {},
   "outputs": [
    {
     "name": "stdout",
     "output_type": "stream",
     "text": [
      "Length of list 30\n",
      "Max of list 0.820409982174688\n"
     ]
    }
   ],
   "source": [
    "print('Length of list', len(k_cv_scores))\n",
    "print('Max of list', max(k_cv_scores))"
   ]
  },
  {
   "cell_type": "code",
   "execution_count": 307,
   "metadata": {
    "collapsed": true
   },
   "outputs": [],
   "source": [
    "from sklearn import metrics\n",
    "\n",
    "k_test_scores = []\n",
    "for k in k_range:\n",
    "    knn = KNeighborsClassifier(n_neighbors=k)\n",
    "    knn.fit(X_cv_train, y_cv_train)\n",
    "    y_pred = knn.predict(X_cv_test)\n",
    "    k_test_scores.append(metrics.accuracy_score(y_cv_test, y_pred))"
   ]
  },
  {
   "cell_type": "code",
   "execution_count": 308,
   "metadata": {},
   "outputs": [
    {
     "name": "stdout",
     "output_type": "stream",
     "text": [
      "Test: K= 11\n",
      "CV K= 8\n"
     ]
    },
    {
     "data": {
      "image/png": "[encoded data removed]",
      "text/plain": [
       "<matplotlib.figure.Figure at 0x113dd5048>"
      ]
     },
     "metadata": {},
     "output_type": "display_data"
    }
   ],
   "source": [
    "plt.plot(k_range, k_cv_scores, color='b', label='CV')\n",
    "plt.plot(k_range, k_test_scores, color='r', label = 'Test')\n",
    "plt.xlabel('Value of K for KNN')\n",
    "plt.ylabel('Cross-validated accuracy')\n",
    "plt.legend()\n",
    "k_test_best = np.argmax(k_test_scores) + 1\n",
    "print('Test: K=', k_test_best)\n",
    "k_cv_best = np.argmax(k_cv_scores) + 1\n",
    "print('CV K=', k_cv_best)"
   ]
  },
  {
   "cell_type": "code",
   "execution_count": 309,
   "metadata": {},
   "outputs": [
    {
     "data": {
      "text/html": [
       "<div>\n",
       "<style scoped>\n",
       "    .dataframe tbody tr th:only-of-type {\n",
       "        vertical-align: middle;\n",
       "    }\n",
       "\n",
       "    .dataframe tbody tr th {\n",
       "        vertical-align: top;\n",
       "    }\n",
       "\n",
       "    .dataframe thead th {\n",
       "        text-align: right;\n",
       "    }\n",
       "</style>\n",
       "<table border=\"1\" class=\"dataframe\">\n",
       "  <thead>\n",
       "    <tr style=\"text-align: right;\">\n",
       "      <th></th>\n",
       "      <th>PassengerId</th>\n",
       "      <th>Survived</th>\n",
       "    </tr>\n",
       "  </thead>\n",
       "  <tbody>\n",
       "    <tr>\n",
       "      <th>408</th>\n",
       "      <td>1300</td>\n",
       "      <td>1</td>\n",
       "    </tr>\n",
       "    <tr>\n",
       "      <th>409</th>\n",
       "      <td>1301</td>\n",
       "      <td>1</td>\n",
       "    </tr>\n",
       "    <tr>\n",
       "      <th>410</th>\n",
       "      <td>1302</td>\n",
       "      <td>1</td>\n",
       "    </tr>\n",
       "    <tr>\n",
       "      <th>411</th>\n",
       "      <td>1303</td>\n",
       "      <td>1</td>\n",
       "    </tr>\n",
       "    <tr>\n",
       "      <th>412</th>\n",
       "      <td>1304</td>\n",
       "      <td>0</td>\n",
       "    </tr>\n",
       "    <tr>\n",
       "      <th>413</th>\n",
       "      <td>1305</td>\n",
       "      <td>0</td>\n",
       "    </tr>\n",
       "    <tr>\n",
       "      <th>414</th>\n",
       "      <td>1306</td>\n",
       "      <td>1</td>\n",
       "    </tr>\n",
       "    <tr>\n",
       "      <th>415</th>\n",
       "      <td>1307</td>\n",
       "      <td>0</td>\n",
       "    </tr>\n",
       "    <tr>\n",
       "      <th>416</th>\n",
       "      <td>1308</td>\n",
       "      <td>0</td>\n",
       "    </tr>\n",
       "    <tr>\n",
       "      <th>417</th>\n",
       "      <td>1309</td>\n",
       "      <td>1</td>\n",
       "    </tr>\n",
       "  </tbody>\n",
       "</table>\n",
       "</div>"
      ],
      "text/plain": [
       "     PassengerId  Survived\n",
       "408         1300         1\n",
       "409         1301         1\n",
       "410         1302         1\n",
       "411         1303         1\n",
       "412         1304         0\n",
       "413         1305         0\n",
       "414         1306         1\n",
       "415         1307         0\n",
       "416         1308         0\n",
       "417         1309         1"
      ]
     },
     "execution_count": 309,
     "metadata": {},
     "output_type": "execute_result"
    }
   ],
   "source": [
    "knn_cv = KNeighborsClassifier(n_neighbors=k_cv_best)\n",
    "knn_cv.fit(X_train, y_train)\n",
    "y_cv_pred = knn_cv.predict(X_test)\n",
    "write_submission(y_cv_pred, 'submission_knn_cv.csv')"
   ]
  },
  {
   "cell_type": "code",
   "execution_count": 310,
   "metadata": {
    "scrolled": false
   },
   "outputs": [
    {
     "data": {
      "text/html": [
       "<div>\n",
       "<style scoped>\n",
       "    .dataframe tbody tr th:only-of-type {\n",
       "        vertical-align: middle;\n",
       "    }\n",
       "\n",
       "    .dataframe tbody tr th {\n",
       "        vertical-align: top;\n",
       "    }\n",
       "\n",
       "    .dataframe thead th {\n",
       "        text-align: right;\n",
       "    }\n",
       "</style>\n",
       "<table border=\"1\" class=\"dataframe\">\n",
       "  <thead>\n",
       "    <tr style=\"text-align: right;\">\n",
       "      <th></th>\n",
       "      <th>PassengerId</th>\n",
       "      <th>Survived</th>\n",
       "    </tr>\n",
       "  </thead>\n",
       "  <tbody>\n",
       "    <tr>\n",
       "      <th>408</th>\n",
       "      <td>1300</td>\n",
       "      <td>1</td>\n",
       "    </tr>\n",
       "    <tr>\n",
       "      <th>409</th>\n",
       "      <td>1301</td>\n",
       "      <td>1</td>\n",
       "    </tr>\n",
       "    <tr>\n",
       "      <th>410</th>\n",
       "      <td>1302</td>\n",
       "      <td>1</td>\n",
       "    </tr>\n",
       "    <tr>\n",
       "      <th>411</th>\n",
       "      <td>1303</td>\n",
       "      <td>1</td>\n",
       "    </tr>\n",
       "    <tr>\n",
       "      <th>412</th>\n",
       "      <td>1304</td>\n",
       "      <td>1</td>\n",
       "    </tr>\n",
       "    <tr>\n",
       "      <th>413</th>\n",
       "      <td>1305</td>\n",
       "      <td>0</td>\n",
       "    </tr>\n",
       "    <tr>\n",
       "      <th>414</th>\n",
       "      <td>1306</td>\n",
       "      <td>1</td>\n",
       "    </tr>\n",
       "    <tr>\n",
       "      <th>415</th>\n",
       "      <td>1307</td>\n",
       "      <td>0</td>\n",
       "    </tr>\n",
       "    <tr>\n",
       "      <th>416</th>\n",
       "      <td>1308</td>\n",
       "      <td>0</td>\n",
       "    </tr>\n",
       "    <tr>\n",
       "      <th>417</th>\n",
       "      <td>1309</td>\n",
       "      <td>1</td>\n",
       "    </tr>\n",
       "  </tbody>\n",
       "</table>\n",
       "</div>"
      ],
      "text/plain": [
       "     PassengerId  Survived\n",
       "408         1300         1\n",
       "409         1301         1\n",
       "410         1302         1\n",
       "411         1303         1\n",
       "412         1304         1\n",
       "413         1305         0\n",
       "414         1306         1\n",
       "415         1307         0\n",
       "416         1308         0\n",
       "417         1309         1"
      ]
     },
     "execution_count": 310,
     "metadata": {},
     "output_type": "execute_result"
    }
   ],
   "source": [
    "knn_test = KNeighborsClassifier(n_neighbors=k_test_best)\n",
    "knn_test.fit(X_train, y_train)\n",
    "y_test_pred = knn_test.predict(X_test)\n",
    "write_submission(y_test_pred, 'submission_knn_test.csv')"
   ]
  },
  {
   "cell_type": "markdown",
   "metadata": {},
   "source": [
    "# Questions："
   ]
  },
  {
   "cell_type": "markdown",
   "metadata": {},
   "source": [
    "## 1.How did you do to wrangle, prepare, cleanse the data?\n",
    "   "
   ]
  },
  {
   "cell_type": "markdown",
   "metadata": {},
   "source": [
    "As shown above, we first load,explore the data with Python and find that some data(age,cabin,embarked,fare) are missing. After analyzing the data, we find that \"cabin\" is related to \"Pclass\" and lacks a lot of data. So we prefer not to choose \"cabin\" as \n",
    "a feature of machine learing. So we don't fill the missing data of cabin. However, \"age\",\"embarked\" and \"fare\" play important roles in deciding whether a passenger will survive in Titanic. So we fill the missing \"age\" data with RandomForestClassifier. Also, we fill the missing \"fare\" data based on the average value and standard deviation value of other values. Considering only 2 \"embarked\" values are missing, we just fill them with \"s\" value.\n",
    " \n"
   ]
  },
  {
   "cell_type": "markdown",
   "metadata": {},
   "source": [
    "Then we try to transform everthing into digits and partion some features for conducting machine learning better. For example, we partition \"age\" values to several sections. [0,13]->0,[14,26]->1,[27,39]->2,[40,53]->3,[54,66]->4,over 66 ->5.\n",
    "You can see more detailed information in Features engineering and Data cleaning parts."
   ]
  },
  {
   "cell_type": "markdown",
   "metadata": {},
   "source": [
    "## 2.How did you analyze, identify patterns, and explore the data?"
   ]
  },
  {
   "cell_type": "markdown",
   "metadata": {},
   "source": [
    "We use charts and tables to get the relationships between features and survival rate. We analyze each feature along with the survival rate. We also combine the data with common sense. In common sense, women and children are more likely to be protected when an accident happens. As we explore the data, the survival rate of women and children is actually higher than others. As a result, we can find which features do affect survival rate of passengers. Like in \"sex\" feature, we can find that women are far more likely to survive in the disaster which means we need to consider the \"sex\" feature as an element in our machine learning."
   ]
  },
  {
   "cell_type": "markdown",
   "metadata": {},
   "source": [
    "## 3.Improve prediction from the lab and pick the best to submit to kaggle.com:   "
   ]
  },
  {
   "cell_type": "markdown",
   "metadata": {},
   "source": [
    "### a. What are the models you ran (you should run at least 5)?"
   ]
  },
  {
   "cell_type": "markdown",
   "metadata": {},
   "source": [
    "DecisionTreeClassifier    \n",
    "RandomForestClassifier   \n",
    "KNeighborsClassifier      \n",
    "SVC         \n",
    "LinearSVC                 \n",
    "GaussianNB     \n",
    "LogisticRegression    "
   ]
  },
  {
   "cell_type": "markdown",
   "metadata": {},
   "source": [
    "### b.What are the features/variables in the data you chose to build your models?"
   ]
  },
  {
   "cell_type": "markdown",
   "metadata": {},
   "source": [
    "Pclass\n",
    "\n",
    "Age: We categorize this feature into 6 ranges according to the same age difference.\n",
    "\n",
    "Fare: We categorize this feature into 5 ranges, each category include the same number of people.  \n",
    "\n",
    "Embarked\n",
    "\n",
    "FamilySize: With the number of siblings/spouse and the number of children/parents we create new feature called Family Size.\n",
    "Is Alone: We create this new feature to show whether this person is alone without other family members.\n",
    "\n",
    "Title: We extract the title of people from the feature of Name\n",
    "\n",
    "Person: We add a feature person which group the people under 14 as child and greater or equal to 67 as ‘elder’ and others are the same as the feature of Sex."
   ]
  },
  {
   "cell_type": "markdown",
   "metadata": {},
   "source": [
    "### c.How and why did you pick the features/variables?"
   ]
  },
  {
   "cell_type": "markdown",
   "metadata": {},
   "source": [
    "In the Feature Engineering part of our work, we analyze every feature and classify them into groups in order to see the relationship between each group and the mean value of Survived feature. After observing the result of each relationship, if one feature has an impact on the Survived, we will pick it into training dataframe."
   ]
  },
  {
   "cell_type": "markdown",
   "metadata": {},
   "source": [
    "### d.What is the model you picked to submit and its score rated by kaggle.com (it should be higher than 0.75598)?"
   ]
  },
  {
   "cell_type": "markdown",
   "metadata": {},
   "source": [
    "The model we picked to submit is DecisionTree.\n",
    "The score rated by kaggle.com is 0.7846"
   ]
  },
  {
   "cell_type": "markdown",
   "metadata": {},
   "source": [
    "### e.What is/are the parameter value/values as a result of your parameter tuning?"
   ]
  },
  {
   "cell_type": "markdown",
   "metadata": {},
   "source": [
    "In the KNeighborsClassifier model, the parameter of k is 18.\n",
    "In other models, we use the default values as our parameter."
   ]
  },
  {
   "cell_type": "markdown",
   "metadata": {},
   "source": [
    "### f.How did you pick the value(s)?"
   ]
  },
  {
   "cell_type": "markdown",
   "metadata": {},
   "source": [
    "In the KNeighborsClassifier model, we change the value of k from 1 to 31 and find that at first the accuracy number show an increasing trend and then decrease. Thus we choose the k value with the max accuracy value."
   ]
  },
  {
   "cell_type": "markdown",
   "metadata": {},
   "source": [
    "## 4.Answer the below questions about SettingWithCopyWarning in pandas"
   ]
  },
  {
   "cell_type": "markdown",
   "metadata": {},
   "source": [
    " ### a.What is SettingWithCopyWarning? Please summarize."
   ]
  },
  {
   "cell_type": "markdown",
   "metadata": {},
   "source": [
    "Some actions in pandas can return a view of data and some will return a copy. When we conduct some actions with pandas, these actions may be set on a copy of the original data set. This often happens when we try to chain two indexing operations together. This warning will remind you that sometimes your operations do not act as expected. You need to check the result of your operations to avoid mistakes."
   ]
  },
  {
   "cell_type": "markdown",
   "metadata": {},
   "source": [
    "### b.How did you make sure that the warning is not applicable in your cases?"
   ]
  },
  {
   "cell_type": "markdown",
   "metadata": {},
   "source": [
    "We use \".loc\" to prevent this warning."
   ]
  },
  {
   "cell_type": "markdown",
   "metadata": {},
   "source": [
    "### c.What can you do to avoid the warning according to the web? Please summarize."
   ]
  },
  {
   "cell_type": "markdown",
   "metadata": {},
   "source": [
    "There are several ways to avoid the warning:\n",
    " 1. Use code like \"loc/iloc\" to tell the system which dataset you actually use.\n",
    " 2. Turn off the warning: \"pd.options.mode.chained_assignment = None\""
   ]
  },
  {
   "cell_type": "markdown",
   "metadata": {},
   "source": [
    "### d.(extra points) What else can you do to avoid the warning? Please explain."
   ]
  },
  {
   "cell_type": "markdown",
   "metadata": {},
   "source": [
    " We can create a new copy of the original dataset so that these operations will not affect on original data."
   ]
  },
  {
   "cell_type": "markdown",
   "metadata": {},
   "source": [
    "## Add-on Links:"
   ]
  },
  {
   "cell_type": "markdown",
   "metadata": {},
   "source": [
    "### 1.Kaggle Submission Link:"
   ]
  },
  {
   "cell_type": "markdown",
   "metadata": {},
   "source": [
    "https://www.kaggle.com/huanchen0816"
   ]
  },
  {
   "cell_type": "markdown",
   "metadata": {},
   "source": [
    "### 2.Some references: \n"
   ]
  },
  {
   "cell_type": "markdown",
   "metadata": {},
   "source": [
    "https://www.kaggle.com/sinakhorami/titanic-best-working-classifier;  https://github.com/chirayukong/infsci2725-spring-2018/blob/master/lecture-06/Titanic_Lab.ipynb;  http://blog.csdn.net/guoxinian/article/details/73740746"
   ]
  }
 ],
 "metadata": {
  "kernelspec": {
   "display_name": "Python 3",
   "language": "python",
   "name": "python3"
  },
  "language_info": {
   "codemirror_mode": {
    "name": "ipython",
    "version": 3
   },
   "file_extension": ".py",
   "mimetype": "text/x-python",
   "name": "python",
   "nbconvert_exporter": "python",
   "pygments_lexer": "ipython3",
   "version": "3.6.3"
  }
 },
 "nbformat": 4,
 "nbformat_minor": 2
}
