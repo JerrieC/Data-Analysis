{
 "cells": [
  {
   "cell_type": "code",
   "execution_count": 182,
   "metadata": {},
   "outputs": [],
   "source": [
    "import sqlite3\n",
    "import csv\n",
    "\n",
    "conn = sqlite3.connect('DAassignment1.db')\n",
    "cursor = conn.cursor()\n",
    "def create_table_players():\n",
    "    cursor.execute(\"\"\"CREATE TABLE IF NOT EXISTS players(\n",
    "        auto_id INTEGER PRIMARY KEY AUTOINCREMENT,\n",
    "        id VARCHAR(255) NOT NULL,\n",
    "        first_name VARCHAR(255) NOT NULL,\n",
    "        last_name VARCHAR(255) NOT NULL);\"\"\")\n",
    "    \n",
    "def create_table_hall_of_fame():\n",
    "    cursor.execute(\"\"\"CREATE TABLE IF NOT EXISTS hall_of_fame(\n",
    "        player_id VARCHAR(255) NOT NULL,\n",
    "        year_id INT NOT NULL,\n",
    "        voted_by VARCHAR(255) NOT NULL,\n",
    "        ballots INT NOT NULL,\n",
    "        needed INT NOT NULL,\n",
    "        votes INT NOT NULL,\n",
    "        inducted VARCHAR(255) NOT NULL,\n",
    "        category VARCHAR(255) NOT NULL);\"\"\")\n",
    "    \n",
    "def read_file_players():\n",
    "    with open('Players.csv') as players_file:\n",
    "        dr = csv.DictReader(players_file) # comma is default delimiter\n",
    "        to_db = [(i['playerid'], i['namefirst'], i['namelast']) for i in dr]\n",
    "        print(\"read successfully\")\n",
    "        \n",
    "def read_file_hall():\n",
    "    with open('HallOfFame.csv') as hall_of_fame_file:\n",
    "        dr2 = csv.DictReader(hall_of_fame_file) \n",
    "        to_db2 = [(i['playerID'], i['yearid'] ,i['votedBy'], i['ballots'], i['needed'], i['votes'], i['inducted'], i['category']) for i in dr2]\n",
    "        print(\"read successfully\")\n",
    "\n",
    "def read_file_batting():\n",
    "    with open('Batting.csv') as batting:\n",
    "        dr3 = csv.DictReader(batting) \n",
    "        to_db3 = [(i['playerID'], i['yearID'] ,i['teamID'], i['Games'], i['Atbats'], i['RunsScored'], i['Hits'], i['Homeruns'], i['RunsBattedIn'], i['Walks'], i['strikeOuts']) for i in dr3]\n",
    "        print(\"read successfully\")\n",
    "    \n",
    "def data_import_players():\n",
    "    cursor.executemany(\"INSERT INTO players (id, first_name, last_name) VALUES (?, ?, ?);\", to_db)\n",
    "    print(\"import successfully\")\n",
    "    conn.commit()\n",
    "    \n",
    "def data_import_hall():\n",
    "    cursor.executemany(\"INSERT INTO hall_of_fame VALUES (?, ?, ?, ?, ?, ?, ?, ?);\", to_db2)\n",
    "    print(\"import successfully\")\n",
    "    conn.commit()\n",
    "    \n",
    "    \n",
    "def delete_table():\n",
    "    cursor.execute(\"DROP TABLE hall_of_fame;\")\n",
    "    conn.commit()"
   ]
  }
 ],
 "metadata": {
  "kernelspec": {
   "display_name": "Python 3",
   "language": "python",
   "name": "python3"
  },
  "language_info": {
   "codemirror_mode": {
    "name": "ipython",
    "version": 3
   },
   "file_extension": ".py",
   "mimetype": "text/x-python",
   "name": "python",
   "nbconvert_exporter": "python",
   "pygments_lexer": "ipython3",
   "version": "3.6.3"
  }
 },
 "nbformat": 4,
 "nbformat_minor": 2
}
